{
 "cells": [
  {
   "cell_type": "markdown",
   "metadata": {},
   "source": [
    "## How do distributions transform under a change of variables ?\n",
    "\n",
    "Kyle Cranmer, March 2016"
   ]
  },
  {
   "cell_type": "code",
   "execution_count": 1,
   "metadata": {},
   "outputs": [
    {
     "name": "stdout",
     "output_type": "stream",
     "text": [
      "Populating the interactive namespace from numpy and matplotlib\n"
     ]
    }
   ],
   "source": [
    "%pylab inline --no-import-all"
   ]
  },
  {
   "cell_type": "markdown",
   "metadata": {},
   "source": [
    "We are interested in understanding how distributions transofrm under a change of variables.\n",
    "Let's start with a simple example. Think of a spinner like on a game of twister. \n",
    "\n",
    "<!--<img src=\"http://cdn.krrb.com/post_images/photos/000/273/858/DSCN3718_large.jpg?1393271975\" width=300 />-->\n",
    "\n",
    "We flick the spinner and it stops. Let's call the angle of the pointer $x$. It seems a safe assumption that the distribution of $x$ is uniform between $[0,2\\pi)$... so $p_x(x) = 1/\\sqrt{2\\pi}$\n",
    "\n",
    "Now let's say that we change variables to $y=\\cos(x)$ (sorry if the names are confusing here, don't think about x- and y-coordinates, these are just names for generic variables).  The question is this:\n",
    "** what is the distribution of y?**  Let's call it $p_y(y)$\n",
    "\n",
    "Well it's easy to do with a simulation, let's try it out"
   ]
  },
  {
   "cell_type": "code",
   "execution_count": 2,
   "metadata": {},
   "outputs": [],
   "source": [
    "# generate samples for x, evaluate y=cos(x)\n",
    "n_samples = 100000\n",
    "x = np.random.uniform(0,2*np.pi,n_samples)\n",
    "y = np.cos(x)"
   ]
  },
  {
   "cell_type": "code",
   "execution_count": 4,
   "metadata": {},
   "outputs": [
    {
     "data": {
      "text/plain": [
       "Text(0, 0.5, '$p_x(x)$')"
      ]
     },
     "execution_count": 4,
     "metadata": {},
     "output_type": "execute_result"
    },
    {
     "data": {
      "image/png": "[encoded data removed]",
      "text/plain": [
       "<Figure size 432x288 with 1 Axes>"
      ]
     },
     "metadata": {
      "needs_background": "light"
     },
     "output_type": "display_data"
    }
   ],
   "source": [
    "# make a histogram of x\n",
    "n_bins = 50\n",
    "counts, bins, patches = plt.hist(x, bins=50, density=True, alpha=0.3)\n",
    "plt.plot([0,2*np.pi], (1./2/np.pi, 1./2/np.pi), lw=2, c='r')\n",
    "plt.xlim(0,2*np.pi)\n",
    "plt.xlabel('x')\n",
    "plt.ylabel('$p_x(x)$')"
   ]
  },
  {
   "cell_type": "markdown",
   "metadata": {},
   "source": [
    "Ok, now let's make a histogram for $y=\\cos(x)$"
   ]
  },
  {
   "cell_type": "code",
   "execution_count": 6,
   "metadata": {},
   "outputs": [
    {
     "data": {
      "text/plain": [
       "Text(0, 0.5, '$p_y(y)$')"
      ]
     },
     "execution_count": 6,
     "metadata": {},
     "output_type": "execute_result"
    },
    {
     "data": {
      "image/png": "[encoded data removed]",
      "text/plain": [
       "<Figure size 432x288 with 1 Axes>"
      ]
     },
     "metadata": {
      "needs_background": "light"
     },
     "output_type": "display_data"
    }
   ],
   "source": [
    "counts, y_bins, patches = plt.hist(y, bins=50, density=True, alpha=0.3)\n",
    "plt.xlabel('y')\n",
    "plt.ylabel('$p_y(y)$')"
   ]
  },
  {
   "cell_type": "markdown",
   "metadata": {},
   "source": [
    "It's not uniform! Why is that?  Let's look at the $x-y$ relationship"
   ]
  },
  {
   "cell_type": "code",
   "execution_count": 7,
   "metadata": {},
   "outputs": [
    {
     "data": {
      "text/plain": [
       "(-1.0, 7.0)"
      ]
     },
     "execution_count": 7,
     "metadata": {},
     "output_type": "execute_result"
    },
    {
     "data": {
      "image/png": "[encoded data removed]",
      "text/plain": [
       "<Figure size 432x288 with 1 Axes>"
      ]
     },
     "metadata": {
      "needs_background": "light"
     },
     "output_type": "display_data"
    }
   ],
   "source": [
    "# make a scatter of x,y\n",
    "plt.scatter(x[:300],y[:300]) #just the first 300 points\n",
    "\n",
    "xtest = .2\n",
    "plt.plot((-1,xtest),(np.cos(xtest),np.cos(xtest)), c='r')\n",
    "plt.plot((xtest,xtest),(-1.5,np.cos(xtest)), c='r')\n",
    "xtest = xtest+.1\n",
    "plt.plot((-1,xtest),(np.cos(xtest),np.cos(xtest)), c='r')\n",
    "plt.plot((xtest,xtest),(-1.5,np.cos(xtest)), c='r')\n",
    "\n",
    "xtest = 2*np.pi-xtest\n",
    "plt.plot((-1,xtest),(np.cos(xtest),np.cos(xtest)), c='g')\n",
    "plt.plot((xtest,xtest),(-1.5,np.cos(xtest)), c='g')\n",
    "xtest = xtest+.1\n",
    "plt.plot((-1,xtest),(np.cos(xtest),np.cos(xtest)), c='g')\n",
    "plt.plot((xtest,xtest),(-1.5,np.cos(xtest)), c='g')\n",
    "\n",
    "\n",
    "xtest = np.pi/2\n",
    "plt.plot((-1,xtest),(np.cos(xtest),np.cos(xtest)), c='r')\n",
    "plt.plot((xtest,xtest),(-1.5,np.cos(xtest)), c='r')\n",
    "xtest = xtest+.1\n",
    "plt.plot((-1,xtest),(np.cos(xtest),np.cos(xtest)), c='r')\n",
    "plt.plot((xtest,xtest),(-1.5,np.cos(xtest)), c='r')\n",
    "\n",
    "xtest = 2*np.pi-xtest\n",
    "plt.plot((-1,xtest),(np.cos(xtest),np.cos(xtest)), c='g')\n",
    "plt.plot((xtest,xtest),(-1.5,np.cos(xtest)), c='g')\n",
    "xtest = xtest+.1\n",
    "plt.plot((-1,xtest),(np.cos(xtest),np.cos(xtest)), c='g')\n",
    "plt.plot((xtest,xtest),(-1.5,np.cos(xtest)), c='g')\n",
    "\n",
    "\n",
    "plt.ylim(-1.5,1.5)\n",
    "plt.xlim(-1,7)"
   ]
  },
  {
   "cell_type": "markdown",
   "metadata": {},
   "source": [
    "The two sets of vertical lines are both separated by $0.1$. The probability  $P(a < x < b)$ must equal the probability of $P( cos(b) < y < cos(a) )$. In this example there are two different values of $x$ that give the same $y$ (see green and red lines), so we need to take that into account. For now, let's just focus on the first part of the curve with $x<\\pi$.\n",
    "\n",
    "So we can write (this is the important equation):\n",
    "\n",
    "\\begin{equation}\n",
    "\\int_a^b p_x(x) dx = \\int_{y_b}^{y_a} p_y(y) dy \n",
    "\\end{equation}\n",
    "where $y_a = \\cos(a)$ and $y_b = \\cos(b)$.\n",
    "\n",
    "and we can re-write the integral on the right by using a change of variables (pure calculus)\n",
    "\n",
    "\\begin{equation}\n",
    "\\int_a^b p_x(x) dx = \\int_{y_b}^{y_a} p_y(y) dy = \\int_a^b p_y(y(x))  \\left| \\frac{dy}{dx}\\right| dx \n",
    "\\end{equation}\n",
    "\n",
    "notice that the limits of integration and integration variable are the same for the left and right sides of the equation, so the integrands must be the same too. Therefore:\n",
    "\n",
    "\\begin{equation}\n",
    "p_x(x) = p_y(y)  \\left| \\frac{dy}{dx}\\right| \n",
    "\\end{equation}\n",
    "and equivalently\n",
    "\\begin{equation}\n",
    "p_y(y) = p_x(x) \\,/ \\,\\left| \\, {dy}/{dx}\\, \\right | \n",
    "\\end{equation}\n",
    "\n",
    "The factor $\\left|\\frac{dy}{dx} \\right|$ is called a Jacobian. When it is large it is stretching the probability in $x$ over a large range of $y$, so it makes sense that it is in the denominator."
   ]
  },
  {
   "cell_type": "code",
   "execution_count": 8,
   "metadata": {},
   "outputs": [
    {
     "data": {
      "text/plain": [
       "Text(1.02, 0.1, '$\\\\sin(x)=\\\\sqrt{1-y^2}$')"
      ]
     },
     "execution_count": 8,
     "metadata": {},
     "output_type": "execute_result"
    },
    {
     "data": {
      "image/png": "[encoded data removed]",
      "text/plain": [
       "<Figure size 432x288 with 1 Axes>"
      ]
     },
     "metadata": {
      "needs_background": "light"
     },
     "output_type": "display_data"
    }
   ],
   "source": [
    "plt.plot((0.,1), (0,.3))\n",
    "plt.plot((0.,1), (0,0), lw=2)\n",
    "plt.plot((1.,1), (0,.3))\n",
    "plt.ylim(-.1,.4)\n",
    "plt.xlim(-.1,1.6)\n",
    "plt.text(0.5,0.2, '1', color='b')\n",
    "plt.text(0.2,0.03, 'x', color='black')\n",
    "plt.text(0.5,-0.05, 'y=cos(x)', color='g')\n",
    "plt.text(1.02,0.1, '$\\sin(x)=\\sqrt{1-y^2}$', color='r')"
   ]
  },
  {
   "cell_type": "markdown",
   "metadata": {},
   "source": [
    "In our case:\n",
    "\\begin{equation}\n",
    "\\left|\\frac{dy}{dx} \\right| =  \\sin(x)\n",
    "\\end{equation}\n",
    "\n",
    "Looking at the right-triangle above you can see $\\sin(x)=\\sqrt{1-y^2}$ and finally there will be an extra factor of 2 for $p_y(y)$ to take into account $x>\\pi$. So we arrive at\n",
    "\\begin{equation}\n",
    "p_y(y) = 2 \\times \\frac{1}{2 \\pi} \\frac{1}{\\sin(x)} = \\frac{1}{\\pi} \\frac{1}{\\sin(\\arccos(y))} = \\frac{1}{\\pi} \\frac{1}{\\sqrt{1-y^2}}\n",
    "\\end{equation}\n",
    "\n",
    "  Notice that when $y=\\pm 1$ the pdf is diverging. This is called a [caustic](http://www.phikwadraat.nl/huygens_cusp_of_tea/) and you see them in your coffee and rainbows!\n",
    "\n",
    "|   |   |\n",
    "|---|---|\n",
    "|  <img src=\"http://www.nanowerk.com/spotlight/id19915_1.jpg\" size=200 /> | <img src=\"http://www.ams.org/featurecolumn/images/february2009/caustic.gif\" size=200>  | \n",
    "\n",
    "\n",
    "**Let's check our prediction**"
   ]
  },
  {
   "cell_type": "code",
   "execution_count": 10,
   "metadata": {},
   "outputs": [
    {
     "data": {
      "text/plain": [
       "Text(0, 0.5, '$p_y(y)$')"
      ]
     },
     "execution_count": 10,
     "metadata": {},
     "output_type": "execute_result"
    },
    {
     "data": {
      "image/png": "[encoded data removed]",
      "text/plain": [
       "<Figure size 432x288 with 1 Axes>"
      ]
     },
     "metadata": {
      "needs_background": "light"
     },
     "output_type": "display_data"
    }
   ],
   "source": [
    "counts, y_bins, patches = plt.hist(y, bins=50, density=True, alpha=0.3)\n",
    "pdf_y = (1./np.pi)/np.sqrt(1.-y_bins**2)\n",
    "plt.plot(y_bins, pdf_y, c='r', lw=2)\n",
    "plt.ylim(0,5)\n",
    "plt.xlabel('y')\n",
    "plt.ylabel('$p_y(y)$')"
   ]
  },
  {
   "cell_type": "markdown",
   "metadata": {},
   "source": [
    "Perfect!"
   ]
  },
  {
   "cell_type": "markdown",
   "metadata": {},
   "source": [
    "## A trick using the cumulative distribution function (cdf) to generate random numbers\n",
    "\n",
    "Let's consider a different variable transformation now -- it is a special one that we can use to our advantage. \n",
    "\\begin{equation}\n",
    "y(x) = \\textrm{cdf}(x) = \\int_{-\\infty}^x p_x(x') dx'\n",
    "\\end{equation}\n",
    "\n",
    "Here's a plot of a distribution and cdf for a Gaussian.\n",
    "\n",
    "(NOte: the axes are different for the pdf and the cdf http://matplotlib.org/examples/api/two_scales.html"
   ]
  },
  {
   "cell_type": "code",
   "execution_count": 11,
   "metadata": {},
   "outputs": [],
   "source": [
    "from scipy.stats import norm"
   ]
  },
  {
   "cell_type": "code",
   "execution_count": 12,
   "metadata": {},
   "outputs": [
    {
     "data": {
      "image/png": "[encoded data removed]",
      "text/plain": [
       "<Figure size 432x288 with 2 Axes>"
      ]
     },
     "metadata": {
      "needs_background": "light"
     },
     "output_type": "display_data"
    }
   ],
   "source": [
    "x_for_plot = np.linspace(-3,3, 30)\n",
    "fig, ax1 = plt.subplots()\n",
    "\n",
    "ax1.plot(x_for_plot, norm.pdf(x_for_plot), c='b')\n",
    "ax1.set_ylabel('p(x)', color='b')\n",
    "for tl in ax1.get_yticklabels():\n",
    "    tl.set_color('b')\n",
    "    \n",
    "ax2 = ax1.twinx()\n",
    "ax2.plot(x_for_plot, norm.cdf(x_for_plot), c='r')\n",
    "ax2.set_ylabel('cdf(x)', color='r')\n",
    "for tl in ax2.get_yticklabels():\n",
    "    tl.set_color('r')"
   ]
  },
  {
   "cell_type": "markdown",
   "metadata": {},
   "source": [
    "Ok, so let's use our result about how distributions transform under a change of variables to predict the distribution of $y=cdf(x)$. We need to calculate \n",
    "\n",
    "\\begin{equation}\n",
    "\\frac{dy}{dx} = \\frac{d}{dx} \\int_{-\\infty}^x p_x(x') dx'\n",
    "\\end{equation}\n",
    "\n",
    "Just like particles and anti-particles, when derivatives meet anti-derivatives they annihilate. So $\\frac{dy}{dx} = p_x(x)$, which shouldn't be a surprise.. the slope of the cdf is the pdf.\n",
    "\n",
    "So putting these together we find the distribution for $y$ is:\n",
    "\n",
    "\\begin{equation}\n",
    "p_y(y) = p_x(x) \\, / \\, \\frac{dy}{dx} = p_x(x) /p_x(x) = 1\n",
    "\\end{equation}\n",
    "\n",
    "So it's just a uniform distribution from $[0,1]$, which is perfect for random numbers.\n",
    "\n",
    "We can turn this around and generate a uniformly random number between $[0,1]$, take the inverse of the cdf and we should have the distribution we want for $x$.\n",
    "\n",
    "Let's try it for a Gaussian. The inverse of the cdf for a Gaussian is called [ppf](http://docs.scipy.org/doc/scipy-0.15.1/reference/generated/scipy.stats.norm.html)\n"
   ]
  },
  {
   "cell_type": "code",
   "execution_count": 13,
   "metadata": {},
   "outputs": [
    {
     "data": {
      "text/plain": [
       "'\\n        Percent point function (inverse of `cdf`) at q of the given RV.\\n\\n        Parameters\\n        ----------\\n        q : array_like\\n            lower tail probability\\n        arg1, arg2, arg3,... : array_like\\n            The shape parameter(s) for the distribution (see docstring of the\\n            instance object for more information)\\n        loc : array_like, optional\\n            location parameter (default=0)\\n        scale : array_like, optional\\n            scale parameter (default=1)\\n\\n        Returns\\n        -------\\n        x : array_like\\n            quantile corresponding to the lower tail probability q.\\n\\n        '"
      ]
     },
     "execution_count": 13,
     "metadata": {},
     "output_type": "execute_result"
    }
   ],
   "source": [
    "norm.ppf.__doc__"
   ]
  },
  {
   "cell_type": "code",
   "execution_count": 14,
   "metadata": {},
   "outputs": [
    {
     "data": {
      "text/plain": [
       "(0.5, 0.0)"
      ]
     },
     "execution_count": 14,
     "metadata": {},
     "output_type": "execute_result"
    }
   ],
   "source": [
    "#check it out\n",
    "norm.cdf(0), norm.ppf(0.5)"
   ]
  },
  {
   "cell_type": "markdown",
   "metadata": {},
   "source": [
    "Ok, let's use CDF trick to generate Normally-distributed (aka Gaussian-distributed) random numbers"
   ]
  },
  {
   "cell_type": "code",
   "execution_count": 15,
   "metadata": {},
   "outputs": [],
   "source": [
    "rand_cdf = np.random.uniform(0,1,10000)\n",
    "rand_norm = norm.ppf(rand_cdf)"
   ]
  },
  {
   "cell_type": "code",
   "execution_count": 17,
   "metadata": {},
   "outputs": [
    {
     "data": {
      "text/plain": [
       "Text(0.5, 0, 'x')"
      ]
     },
     "execution_count": 17,
     "metadata": {},
     "output_type": "execute_result"
    },
    {
     "data": {
      "image/png": "[encoded data removed]",
      "text/plain": [
       "<Figure size 432x288 with 1 Axes>"
      ]
     },
     "metadata": {
      "needs_background": "light"
     },
     "output_type": "display_data"
    }
   ],
   "source": [
    "_ = plt.hist(rand_norm, bins=30, density=True, alpha=0.3)\n",
    "plt.xlabel('x')"
   ]
  },
  {
   "cell_type": "markdown",
   "metadata": {},
   "source": [
    "**Pros**: The great thing about this technique is it is very efficient. You only generate one random number per random $x$.\n",
    "\n",
    "**Cons**: the downside is you need to know how to compute the inverse cdf for $p_x(x)$ and that can be difficult. It works for a distribution like a Gaussian, but for some random distribution this might be even more computationally expensive than the accept/reject approach. This approach also doesn't really work if your distribution is for more than one variable."
   ]
  },
  {
   "cell_type": "markdown",
   "metadata": {},
   "source": [
    "## Going full circle\n",
    "\n",
    "Ok, let's try it for our distribution of $y=\\cos(x)$ above.  We found \n",
    "\n",
    "\\begin{equation}\n",
    "p_y(y) = \\frac{1}{\\pi} \\frac{1}{\\sqrt{1-y^2}}\n",
    "\\end{equation}\n",
    "\n",
    "So the CDF is  (see Wolfram alpha for [integral](http://www.wolframalpha.com/input/?i=integrate%5B1%2Fsqrt%5B1-x%5E2%5D%2FPi%5D) )\n",
    "\\begin{equation}\n",
    "cdf(y') = \\int_{-1}^{y'} \\frac{1}{\\pi} \\frac{1}{\\sqrt{1-y^2}} = \\frac{1}{\\pi}\\arcsin(y') + C\n",
    "\\end{equation}\n",
    "and we know that for $y=-1$ the CDF must be 0, so the constant is $1/2$ and by looking at the plot or remembering some trig you know that it's also $cdf(y') = (1/\\pi) \\arccos(y')$.\n",
    "\n",
    "So to apply the trick, we need to generate uniformly random variables $z$ between 0 and 1, and then take the inverse of the cdf to get $y$. Ok, so what would that be:\n",
    "\\begin{equation}\n",
    "y = \\textrm{cdf}^{-1}(z) = \\cos(\\pi z)\n",
    "\\end{equation}\n",
    "\n",
    "**Of course!** that's how we started in the first place, we started with a uniform $x$ in $[0,2\\pi]$ and then defined $y=\\cos(x)$. So we just worked backwards to get where we started.  The only difference here is that we only evaluate the first half: $\\cos(x < \\pi)$\n",
    "\n",
    "\n",
    "\n",
    "\n"
   ]
  },
  {
   "cell_type": "code",
   "execution_count": null,
   "metadata": {
    "collapsed": true
   },
   "outputs": [],
   "source": []
  }
 ],
 "metadata": {
  "kernelspec": {
   "display_name": "Python 3",
   "language": "python",
   "name": "python3"
  },
  "language_info": {
   "codemirror_mode": {
    "name": "ipython",
    "version": 3
   },
   "file_extension": ".py",
   "mimetype": "text/x-python",
   "name": "python",
   "nbconvert_exporter": "python",
   "pygments_lexer": "ipython3",
   "version": "3.8.5"
  }
 },
 "nbformat": 4,
 "nbformat_minor": 1
}
